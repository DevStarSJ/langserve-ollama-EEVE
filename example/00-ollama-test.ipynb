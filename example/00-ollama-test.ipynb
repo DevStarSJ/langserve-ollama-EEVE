{
 "cells": [
  {
   "cell_type": "code",
   "execution_count": 3,
   "metadata": {},
   "outputs": [
    {
     "name": "stdout",
     "output_type": "stream",
     "text": [
      "딥 러닝은 대량의 데이터와 고급 알고리즘을 사용하여 복잡한 패턴과 추세를 학습하는 인공지능(AI)의 한 분야입니다. 기계학습(ML)의 하위 집합으로, 신경망을 모방하여 인간의 뇌가 작동하는 방식을 본떠서 데이터를 분석하고 결정을 내리는 데 사용합니다.\n",
      "\n",
      "딥 러닝은 계층적 구조로 여러 층의 뉴런을 가진 심층 신경망(DNNs)에 크게 의존합니다. 이러한 네트워크는 복잡한 데이터 세트를 처리하고 추론 능력을 향상시킬 수 있는 특징과 패턴을 학습할 수 있습니다. 딥러닝 모델에는 다음과 같은 다양한 유형이 있습니다:\n",
      "\n",
      "1. 컨볼루셔널 뉴럴 네트워크(CNNs): 이미지, 비디오 및 신호 처리와 같은 시각 데이터를 처리하는 데 주로 사용되는 계층적 구조의 신경망입니다.\n",
      "2. 리커런트 뉴럴 네트워크(RNNs): 시계열 데이터와 언어 처리를 다루는 순환 구조를 가진 모델로, 데이터의 시간 순서를 학습할 수 있습니다.\n",
      "3. 장단기 기억(LSTM) 네트워크: RNNs의 한 유형으로, 장기 의존성과 단기 정보를 모두 처리하여 언어 모델링과 예측에 특히 적합합니다.\n",
      "4. 변형자 및 자기주목 모델들: 시퀀스 데이터 처리에 사용되는 신경망으로, 텍스트와 음성 신호 분석에서 강력한 성능을 보입니다.\n",
      "5. 그래프 신경망(GNNs): 구조화된 데이터를 다루는 데 주로 사용되며, 노드 간의 관계를 학습하여 소셜 네트워크나 분자 예측과 같은 문제를 해결하는 데 도움을 줍니다.\n",
      "\n",
      "딥 러닝은 이미지 인식, 자연어 처리, 음성 인식, 추천 시스템 및 의료 진단 등 다양한 분야에서 중요한 진전을 이루었습니다. 그러나 과적합 문제 해결, 계산 자원 최적화 및 공정성 및 윤리 고려사항에 대한 주의와 같은 도전 과제를 안고 있습니다.\n"
     ]
    }
   ],
   "source": [
    "from langchain_community.chat_models import ChatOllama\n",
    "from langchain_core.output_parsers import StrOutputParser\n",
    "from langchain_core.prompts import ChatPromptTemplate\n",
    "\n",
    "# LangChain이 지원하는 다른 채팅 모델을 사용합니다. 여기서는 Ollama를 사용합니다.\n",
    "llm = ChatOllama(model=\"EEVE-Korean-10.8B:latest\")\n",
    "\n",
    "# 주제를 기반으로 짧은 농담을 요청하는 프롬프트 템플릿을 생성합니다.\n",
    "prompt = ChatPromptTemplate.from_template(\"{topic} 에 대하여 간략히 설명해 줘.\")\n",
    "\n",
    "# LangChain 표현식 언어 체인 구문을 사용합니다.\n",
    "chain = prompt | llm | StrOutputParser()\n",
    "\n",
    "# 간결성을 위해 응답은 터미널에 출력됩니다.\n",
    "# 프로덕션 환경에서 애플리케이션을 배포하기 위해 LangServe를 사용할 수 있습니다.\n",
    "print(chain.invoke({\"topic\": \"deep learning\"}))"
   ]
  }
 ],
 "metadata": {
  "kernelspec": {
   "display_name": "py-test",
   "language": "python",
   "name": "python3"
  },
  "language_info": {
   "codemirror_mode": {
    "name": "ipython",
    "version": 3
   },
   "file_extension": ".py",
   "mimetype": "text/x-python",
   "name": "python",
   "nbconvert_exporter": "python",
   "pygments_lexer": "ipython3",
   "version": "3.10.13"
  }
 },
 "nbformat": 4,
 "nbformat_minor": 2
}
