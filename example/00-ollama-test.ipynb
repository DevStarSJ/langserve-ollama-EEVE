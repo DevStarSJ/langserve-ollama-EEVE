{
 "cells": [
  {
   "cell_type": "markdown",
   "metadata": {},
   "source": [
    "## EEVE-Korean-10.8B\n"
   ]
  },
  {
   "cell_type": "code",
   "execution_count": 3,
   "metadata": {},
   "outputs": [
    {
     "name": "stdout",
     "output_type": "stream",
     "text": [
      "딥 러닝은 대량의 데이터와 고급 알고리즘을 사용하여 복잡한 패턴과 추세를 학습하는 인공지능(AI)의 한 분야입니다. 기계학습(ML)의 하위 집합으로, 신경망을 모방하여 인간의 뇌가 작동하는 방식을 본떠서 데이터를 분석하고 결정을 내리는 데 사용합니다.\n",
      "\n",
      "딥 러닝은 계층적 구조로 여러 층의 뉴런을 가진 심층 신경망(DNNs)에 크게 의존합니다. 이러한 네트워크는 복잡한 데이터 세트를 처리하고 추론 능력을 향상시킬 수 있는 특징과 패턴을 학습할 수 있습니다. 딥러닝 모델에는 다음과 같은 다양한 유형이 있습니다:\n",
      "\n",
      "1. 컨볼루셔널 뉴럴 네트워크(CNNs): 이미지, 비디오 및 신호 처리와 같은 시각 데이터를 처리하는 데 주로 사용되는 계층적 구조의 신경망입니다.\n",
      "2. 리커런트 뉴럴 네트워크(RNNs): 시계열 데이터와 언어 처리를 다루는 순환 구조를 가진 모델로, 데이터의 시간 순서를 학습할 수 있습니다.\n",
      "3. 장단기 기억(LSTM) 네트워크: RNNs의 한 유형으로, 장기 의존성과 단기 정보를 모두 처리하여 언어 모델링과 예측에 특히 적합합니다.\n",
      "4. 변형자 및 자기주목 모델들: 시퀀스 데이터 처리에 사용되는 신경망으로, 텍스트와 음성 신호 분석에서 강력한 성능을 보입니다.\n",
      "5. 그래프 신경망(GNNs): 구조화된 데이터를 다루는 데 주로 사용되며, 노드 간의 관계를 학습하여 소셜 네트워크나 분자 예측과 같은 문제를 해결하는 데 도움을 줍니다.\n",
      "\n",
      "딥 러닝은 이미지 인식, 자연어 처리, 음성 인식, 추천 시스템 및 의료 진단 등 다양한 분야에서 중요한 진전을 이루었습니다. 그러나 과적합 문제 해결, 계산 자원 최적화 및 공정성 및 윤리 고려사항에 대한 주의와 같은 도전 과제를 안고 있습니다.\n"
     ]
    }
   ],
   "source": [
    "from langchain_community.chat_models import ChatOllama\n",
    "from langchain_core.output_parsers import StrOutputParser\n",
    "from langchain_core.prompts import ChatPromptTemplate\n",
    "from langchain_core.callbacks.streaming_stdout import StreamingStdOutCallbackHandler\n",
    "from langchain_core.callbacks.manager import CallbackManager\n",
    "\n",
    "# LangChain이 지원하는 다른 채팅 모델을 사용합니다. 여기서는 Ollama를 사용합니다.\n",
    "llm = ChatOllama(\n",
    "    model=\"EEVE-Korean-10.8B:latest\",\n",
    "    callback_manager=CallbackManager([StreamingStdOutCallbackHandler()]),\n",
    ")\n",
    "\n",
    "# 주제를 기반으로 짧은 농담을 요청하는 프롬프트 템플릿을 생성합니다.\n",
    "prompt = ChatPromptTemplate.from_template(\"{topic} 에 대하여 간략히 설명해 줘.\")\n",
    "\n",
    "# LangChain 표현식 언어 체인 구문을 사용합니다.\n",
    "chain = prompt | llm | StrOutputParser()\n",
    "\n",
    "# 간결성을 위해 응답은 터미널에 출력됩니다.\n",
    "# 프로덕션 환경에서 애플리케이션을 배포하기 위해 LangServe를 사용할 수 있습니다.\n",
    "_ = chain.invoke({\"topic\": \"deep learning\"})"
   ]
  },
  {
   "cell_type": "markdown",
   "metadata": {},
   "source": [
    "## LLama3-8B\n"
   ]
  },
  {
   "cell_type": "code",
   "execution_count": 9,
   "metadata": {},
   "outputs": [
    {
     "name": "stdout",
     "output_type": "stream",
     "text": [
      "Here is a simple implementation of the Fibonacci sequence using Python:\n",
      "```\n",
      "def fibonacci(n):\n",
      "    if n <= 0:\n",
      "        return \"Input should be a positive integer.\"\n",
      "    elif n == 1:\n",
      "        return 0\n",
      "    elif n == 2:\n",
      "        return 1\n",
      "    else:\n",
      "        fib_seq = [0, 1]\n",
      "        while len(fib_seq) < n:\n",
      "            fib_seq.append(fib_seq[-1] + fib_seq[-2])\n",
      "        return fib_seq[-1]\n",
      "\n",
      "n = int(input(\"Enter a positive integer: \"))\n",
      "print(f\"The {n}th Fibonacci number is {fibonacci(n)}\")\n",
      "```\n",
      "This code defines a function `fibonacci` that takes an integer `n` as input and returns the `n`-th Fibonacci number. The function uses a list `fib_seq` to store the Fibonacci sequence, starting with `[0, 1]`. It then enters a loop that continues until the length of `fib_seq` is equal to `n`, at which point it returns the last element of the list.\n",
      "\n",
      "The code also includes a main block that prompts the user to enter a positive integer and prints the corresponding Fibonacci number.\n",
      "\n",
      "For example, if you run this code and enter `5`, it will print `3`, because the 5th Fibonacci number is indeed 3."
     ]
    }
   ],
   "source": [
    "from langchain_community.chat_models import ChatOllama\n",
    "from langchain_core.output_parsers import StrOutputParser\n",
    "from langchain_core.prompts import ChatPromptTemplate\n",
    "from langchain_core.callbacks.streaming_stdout import StreamingStdOutCallbackHandler\n",
    "from langchain_core.callbacks.manager import CallbackManager\n",
    "\n",
    "# LangChain이 지원하는 다른 채팅 모델을 사용합니다. 여기서는 Ollama를 사용합니다.\n",
    "llm = ChatOllama(\n",
    "    model=\"llama3-instruct-8b:latest\",\n",
    "    callback_manager=CallbackManager([StreamingStdOutCallbackHandler()]),\n",
    ")\n",
    "\n",
    "# 주제를 기반으로 짧은 농담을 요청하는 프롬프트 템플릿을 생성합니다.\n",
    "prompt = ChatPromptTemplate.from_template(\n",
    "    \"Answer the following question in Korean(hangul).\\n\\nQuestion: {question}\\n\\nAnswer:\"\n",
    ")\n",
    "\n",
    "# LangChain 표현식 언어 체인 구문을 사용합니다.\n",
    "chain = prompt | llm | StrOutputParser()\n",
    "\n",
    "# 간결성을 위해 응답은 터미널에 출력됩니다.\n",
    "# 프로덕션 환경에서 애플리케이션을 배포하기 위해 LangServe를 사용할 수 있습니다.\n",
    "_ = chain.invoke({\"question\": \"python 코드로 피보나치 수열을 구현해보세요.\"})"
   ]
  },
  {
   "cell_type": "code",
   "execution_count": 16,
   "metadata": {},
   "outputs": [
    {
     "name": "stdout",
     "output_type": "stream",
     "text": [
      "대한민국의 수도는 서울입니다."
     ]
    }
   ],
   "source": [
    "_ = chain.invoke({\"question\": \"대한민국의 수도는?\"})"
   ]
  },
  {
   "cell_type": "code",
   "execution_count": 17,
   "metadata": {},
   "outputs": [
    {
     "name": "stdout",
     "output_type": "stream",
     "text": [
      "딥러닝(Deep Learning)에 대한 설명입니다.\n",
      "\n",
      "딥러닝은 인공 지능(AI) 분야에서 사용되는 알고리즘의 한 유형으로, 기존의 머신 러닝(Machine Learning) 알고리즘보다 더 복잡한 구조를 가지는 모델을 개발하는 데 사용됩니다. 딥러닝 모델은 입력 데이터를 여러 층의 신경망(neural network)을 통해 처리하여 출력을 생성합니다.\n",
      "\n",
      "딥러닝의 특징은 다음과 같습니다.\n",
      "\n",
      "1. **층(layer) 구조**: 딥러닝 모델은 입력 데이터를 여러 층으로 나누어 처리하는 구조를 가집니다. 각 층에서는 입력 데이터가 전달되어 처리되며, 다음 층으로 전달되는 출력이 생성됩니다.\n",
      "2. **신경망(neural network)**: 딥러닝 모델은 신경망을 사용하여 입력 데이터를 처리합니다. 신경망은 인공적으로 설계된 구조로, 인간의 뇌와 유사하게 작동합니다.\n",
      "3. **자동학습(auto-learning)**: 딥러닝 모델은 자동으로 학습할 수 있습니다. 모델이 학습하는 동안, 모델은 입력 데이터를 분석하여 최적의 파라미터를 찾습니다.\n",
      "4. **고차원 처리(high-dimensional processing)**: 딥러닝 모델은 고차원적인 입력 데이터를 처리할 수 있습니다. 예를 들어, 이미지나 음성 데이터는 고차원적인 구조를 가집니다.\n",
      "\n",
      "딥러닝의 적용 분야는 다음과 같습니다.\n",
      "\n",
      "1. **컴퓨터 비전(computer vision)**: 딥러닝을 사용하여 이미지나 비디오를 분석하고, 객체 인식, 이미지 분류, 이미지 생성 등 다양한 작업을 수행할 수 있습니다.\n",
      "2. **자연어 처리(natural language processing)**: 딥러닝을 사용하여 텍스트 데이터를 분석하고, 언어 모델링, 문장 생성, 감정 분석 등 다양한 작업을 수행할 수 있습니다.\n",
      "3. **음성 인식(speech recognition)**: 딥러닝을 사용하여 음성을 인식하고, 음성 합성, 음성 제어 등 다양한 작업을 수행할 수 있습니다.\n",
      "\n",
      "따라서, 딥러닝은 인공 지능(AI) 분야에서 중요한 알고리즘으로, 다양한 적용 분야에서 사용됩니다."
     ]
    }
   ],
   "source": [
    "_ = chain.invoke({\"question\": \"딥러닝에 대해 설명해 줘?\"})"
   ]
  },
  {
   "cell_type": "code",
   "execution_count": 18,
   "metadata": {},
   "outputs": [
    {
     "name": "stdout",
     "output_type": "stream",
     "text": [
      "You're asking about NewJeans!\n",
      "\n",
      "NewJeans is a South Korean girl group formed by ADOR (Ador Entertainment) in 2022. The group consists of five members: Minji, Hanni, Danielle, Haerin, and Hyein.\n",
      "\n",
      "Here are some interesting facts about NewJeans:\n",
      "\n",
      "1. **Debut**: NewJeans debuted on July 22, 2022, with their single \"Attention\" and have since released several successful singles and EPs.\n",
      "2. **Unique Sound**: NewJeans' music style is a blend of genres like pop, rock, R&B, and electronic dance music (EDM). Their songs often feature catchy hooks, intricate choreography, and meaningful lyrics.\n",
      "3. **Global Reach**: Despite being a relatively new group, NewJeans has gained significant attention worldwide, with fans from Asia, Europe, and the Americas.\n",
      "4. **Members' Backgrounds**: The members come from diverse backgrounds: Minji is a former trainee under SM Entertainment, Hanni is a Korean-American singer-songwriter, Danielle is an American-Korean dancer, Haerin is a former member of the girl group ITZY's dance team, and Hyein is a talented vocalist who has participated in various music shows.\n",
      "5. **Concept**: NewJeans' concept revolves around the idea of \"new jeans\" – fresh, youthful energy, and a sense of freedom. Their music and performances aim to evoke feelings of excitement, joy, and empowerment.\n",
      "\n",
      "What would you like to know more about NewJeans?"
     ]
    }
   ],
   "source": [
    "# 주제를 기반으로 짧은 농담을 요청하는 프롬프트 템플릿을 생성합니다.\n",
    "prompt = ChatPromptTemplate.from_template(\n",
    "    \"Answer the following question.\\n\\nQuestion: {question}\\n\\nAnswer:\"\n",
    ")\n",
    "\n",
    "# LangChain 표현식 언어 체인 구문을 사용합니다.\n",
    "chain = prompt | llm | StrOutputParser()\n",
    "\n",
    "# 간결성을 위해 응답은 터미널에 출력됩니다.\n",
    "# 프로덕션 환경에서 애플리케이션을 배포하기 위해 LangServe를 사용할 수 있습니다.\n",
    "_ = chain.invoke({\"question\": \"뉴진스에 대해 알려줘\"})"
   ]
  }
 ],
 "metadata": {
  "kernelspec": {
   "display_name": "py-test",
   "language": "python",
   "name": "python3"
  },
  "language_info": {
   "codemirror_mode": {
    "name": "ipython",
    "version": 3
   },
   "file_extension": ".py",
   "mimetype": "text/x-python",
   "name": "python",
   "nbconvert_exporter": "python",
   "pygments_lexer": "ipython3",
   "version": "3.10.13"
  }
 },
 "nbformat": 4,
 "nbformat_minor": 2
}
